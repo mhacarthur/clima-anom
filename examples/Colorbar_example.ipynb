{
 "cells": [
  {
   "cell_type": "code",
   "execution_count": 34,
   "metadata": {},
   "outputs": [],
   "source": [
    "import os\n",
    "import numpy as np\n",
    "import clima_anom as ca\n",
    "import matplotlib as mpl\n",
    "import matplotlib.pyplot as plt"
   ]
  },
  {
   "cell_type": "markdown",
   "metadata": {},
   "source": [
    "### Create Simple Colorbar"
   ]
  },
  {
   "cell_type": "code",
   "execution_count": 22,
   "metadata": {},
   "outputs": [
    {
     "data": {
      "text/plain": [
       "<matplotlib.colorbar.Colorbar at 0x7fe9af3adca0>"
      ]
     },
     "execution_count": 22,
     "metadata": {},
     "output_type": "execute_result"
    },
    {
     "data": {
      "image/png": "[encoded data removed]",
      "text/plain": [
       "<Figure size 648x108 with 1 Axes>"
      ]
     },
     "metadata": {
      "needs_background": "light"
     },
     "output_type": "display_data"
    }
   ],
   "source": [
    "fig, ax = plt.subplots(figsize=(9, 1.5))\n",
    "fig.subplots_adjust(bottom=0.5)\n",
    "\n",
    "cmap = plt.cm.BuGn\n",
    "\n",
    "fig.colorbar(mpl.cm.ScalarMappable(cmap=cmap),cax=ax, orientation='horizontal', label='Some Units')"
   ]
  },
  {
   "cell_type": "markdown",
   "metadata": {},
   "source": [
    "### Colorbar Starting with white"
   ]
  },
  {
   "cell_type": "code",
   "execution_count": 23,
   "metadata": {},
   "outputs": [],
   "source": [
    "cmap = plt.cm.BuGn\n",
    "cmap_left_white = ca.colorbar_middle_white(cmap,'left')"
   ]
  },
  {
   "cell_type": "code",
   "execution_count": 24,
   "metadata": {},
   "outputs": [
    {
     "data": {
      "text/plain": [
       "<matplotlib.colorbar.Colorbar at 0x7fe9af307790>"
      ]
     },
     "execution_count": 24,
     "metadata": {},
     "output_type": "execute_result"
    },
    {
     "data": {
      "image/png": "[encoded data removed]",
      "text/plain": [
       "<Figure size 648x108 with 1 Axes>"
      ]
     },
     "metadata": {
      "needs_background": "light"
     },
     "output_type": "display_data"
    }
   ],
   "source": [
    "fig, ax = plt.subplots(figsize=(9, 1.5))\n",
    "fig.subplots_adjust(bottom=0.5)\n",
    "\n",
    "cmap = cmap_left_white\n",
    "\n",
    "fig.colorbar(mpl.cm.ScalarMappable(cmap=cmap),cax=ax, orientation='horizontal', label='Some Units')"
   ]
  },
  {
   "cell_type": "markdown",
   "metadata": {},
   "source": [
    "### Colorbar with white in middle"
   ]
  },
  {
   "cell_type": "code",
   "execution_count": 49,
   "metadata": {},
   "outputs": [
    {
     "data": {
      "image/png": "[encoded data removed]",
      "text/plain": [
       "<Figure size 648x108 with 1 Axes>"
      ]
     },
     "metadata": {
      "needs_background": "light"
     },
     "output_type": "display_data"
    }
   ],
   "source": [
    "fig, ax = plt.subplots(figsize=(9, 1.5))\n",
    "fig.subplots_adjust(bottom=0.5)\n",
    "\n",
    "cmap = plt.cm.Spectral_r\n",
    "norm = mpl.colors.Normalize(vmin=-4, vmax=4)\n",
    "\n",
    "fig.colorbar(mpl.cm.ScalarMappable(norm=norm,cmap=cmap),cax=ax, orientation='horizontal', label='Some Units')\n",
    "plt.savefig('..'+os.sep+'figures'+os.sep+'Colorbar_1.png',transparent = False,bbox_inches ='tight',pad_inches = 0.1)"
   ]
  },
  {
   "cell_type": "code",
   "execution_count": 30,
   "metadata": {},
   "outputs": [],
   "source": [
    "cmap = plt.cm.Spectral_r\n",
    "cmap_midle_white = ca.colorbar_middle_white(cmap,'middle')"
   ]
  },
  {
   "cell_type": "code",
   "execution_count": 42,
   "metadata": {},
   "outputs": [
    {
     "data": {
      "text/plain": [
       "<matplotlib.colorbar.Colorbar at 0x7fe9af0e9b20>"
      ]
     },
     "execution_count": 42,
     "metadata": {},
     "output_type": "execute_result"
    },
    {
     "data": {
      "image/png": "[encoded data removed]",
      "text/plain": [
       "<Figure size 648x108 with 1 Axes>"
      ]
     },
     "metadata": {
      "needs_background": "light"
     },
     "output_type": "display_data"
    }
   ],
   "source": [
    "fig, ax = plt.subplots(figsize=(9, 1.5))\n",
    "fig.subplots_adjust(bottom=0.5)\n",
    "\n",
    "cmap = cmap_midle_white\n",
    "norm = mpl.colors.Normalize(vmin=-4, vmax=4)\n",
    "\n",
    "fig.colorbar(mpl.cm.ScalarMappable(norm=norm,cmap=cmap),cax=ax, orientation='horizontal', label='Some Units')"
   ]
  },
  {
   "cell_type": "markdown",
   "metadata": {},
   "source": [
    "## Higher number of blank values"
   ]
  },
  {
   "cell_type": "code",
   "execution_count": 47,
   "metadata": {},
   "outputs": [],
   "source": [
    "cmap = plt.cm.Spectral_r\n",
    "cmap_midle_white = ca.colorbar_middle_white(cmap,'middle',n=30)"
   ]
  },
  {
   "cell_type": "code",
   "execution_count": 48,
   "metadata": {},
   "outputs": [
    {
     "data": {
      "image/png": "[encoded data removed]",
      "text/plain": [
       "<Figure size 648x108 with 1 Axes>"
      ]
     },
     "metadata": {
      "needs_background": "light"
     },
     "output_type": "display_data"
    }
   ],
   "source": [
    "fig, ax = plt.subplots(figsize=(9, 1.5))\n",
    "fig.subplots_adjust(bottom=0.5)\n",
    "\n",
    "cmap = cmap_midle_white\n",
    "norm = mpl.colors.Normalize(vmin=-4, vmax=4)\n",
    "\n",
    "fig.colorbar(mpl.cm.ScalarMappable(norm=norm,cmap=cmap),cax=ax, orientation='horizontal', label='Some Units')\n",
    "plt.savefig('..'+os.sep+'figures'+os.sep+'Colorbar_2.png',transparent = False,bbox_inches ='tight',pad_inches = 0.1)"
   ]
  },
  {
   "cell_type": "markdown",
   "metadata": {},
   "source": [
    "### Discrete intervals"
   ]
  },
  {
   "cell_type": "code",
   "execution_count": 58,
   "metadata": {},
   "outputs": [
    {
     "data": {
      "text/plain": [
       "<matplotlib.colorbar.Colorbar at 0x7fe9aeb7a340>"
      ]
     },
     "execution_count": 58,
     "metadata": {},
     "output_type": "execute_result"
    },
    {
     "data": {
      "image/png": "[encoded data removed]",
      "text/plain": [
       "<Figure size 648x108 with 1 Axes>"
      ]
     },
     "metadata": {
      "needs_background": "light"
     },
     "output_type": "display_data"
    }
   ],
   "source": [
    "fig, ax = plt.subplots(figsize=(9, 1.5))\n",
    "fig.subplots_adjust(bottom=0.5)\n",
    "\n",
    "cmap = (mpl.colors.ListedColormap(['red', 'green', 'blue', 'yellow'])\n",
    "        .with_extremes(over='0.25', under='0.75'))\n",
    "\n",
    "bounds = [1, 2, 4, 7, 8]\n",
    "norm = mpl.colors.BoundaryNorm(bounds, cmap.N)\n",
    "fig.colorbar(\n",
    "    mpl.cm.ScalarMappable(cmap=cmap, norm=norm),\n",
    "    cax=ax,\n",
    "    boundaries=[0] + bounds + [13],  # Adding values for extensions.\n",
    "    extend=None,# 'both', 'max', 'min'\n",
    "    ticks=bounds,\n",
    "    spacing='proportional',\n",
    "    orientation='horizontal',\n",
    "    label='Discrete intervals',\n",
    ")"
   ]
  },
  {
   "cell_type": "code",
   "execution_count": null,
   "metadata": {},
   "outputs": [],
   "source": []
  }
 ],
 "metadata": {
  "interpreter": {
   "hash": "c6c4883052875ec3257edf99ee092a790b9a432228222ee7e742d4f8a559e5a8"
  },
  "kernelspec": {
   "display_name": "Python 3.9.7 ('AXE')",
   "language": "python",
   "name": "python3"
  },
  "language_info": {
   "codemirror_mode": {
    "name": "ipython",
    "version": 3
   },
   "file_extension": ".py",
   "mimetype": "text/x-python",
   "name": "python",
   "nbconvert_exporter": "python",
   "pygments_lexer": "ipython3",
   "version": "3.9.7"
  },
  "orig_nbformat": 4
 },
 "nbformat": 4,
 "nbformat_minor": 2
}
